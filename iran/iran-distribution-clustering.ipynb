{
 "cells": [
  {
   "cell_type": "code",
   "execution_count": 1,
   "metadata": {},
   "outputs": [],
   "source": [
    "import numpy as np\n",
    "import pandas as pd\n",
    "from csv import reader\n",
    "import random\n",
    "import matplotlib.pyplot as plt\n",
    "import folium\n",
    "from sklearn.cluster import DBSCAN "
   ]
  },
  {
   "cell_type": "code",
   "execution_count": 2,
   "metadata": {},
   "outputs": [],
   "source": [
    "m = folium.Map(location=[32.427910, 53.688046], zoom_start=5)"
   ]
  },
  {
   "cell_type": "code",
   "execution_count": 3,
   "metadata": {},
   "outputs": [],
   "source": [
    "with open('data/covid.csv', 'r') as read_obj:\n",
    "    csv_reader = reader(read_obj)\n",
    "    list_of_rows = list(csv_reader)"
   ]
  },
  {
   "cell_type": "code",
   "execution_count": 4,
   "metadata": {},
   "outputs": [],
   "source": [
    "for record in list_of_rows:\n",
    "    folium.Circle(location=record,radius=1,color=\"red\",fill=True).add_to(m)"
   ]
  },
  {
   "cell_type": "code",
   "execution_count": 5,
   "metadata": {},
   "outputs": [],
   "source": [
    "m.save('iran.html')"
   ]
  },
  {
   "cell_type": "code",
   "execution_count": null,
   "metadata": {},
   "outputs": [],
   "source": [
    "m"
   ]
  },
  {
   "cell_type": "code",
   "execution_count": 6,
   "metadata": {},
   "outputs": [],
   "source": [
    "df = pd.read_csv(r\"data/covid.csv\")\n",
    "dataset = df.astype(float).values.tolist()\n",
    "X = df.values #returns a numpy array\n",
    "db = DBSCAN(eps=0.15, min_samples=10).fit(X) "
   ]
  },
  {
   "cell_type": "code",
   "execution_count": 7,
   "metadata": {},
   "outputs": [],
   "source": [
    "core_samples_mask = np.zeros_like(db.labels_, dtype=bool) \n",
    "core_samples_mask[db.core_sample_indices_] = True\n",
    "labels = db.labels_ "
   ]
  },
  {
   "cell_type": "code",
   "execution_count": 9,
   "metadata": {},
   "outputs": [
    {
     "name": "stdout",
     "output_type": "stream",
     "text": [
      "[-1 -1  0 ... 91 -1 -1]\n"
     ]
    }
   ],
   "source": [
    "n_clusters_ = len(set(labels)) - (1 if -1 in labels else 0) \n",
    "  \n",
    "print(labels) "
   ]
  },
  {
   "cell_type": "code",
   "execution_count": 10,
   "metadata": {},
   "outputs": [
    {
     "name": "stdout",
     "output_type": "stream",
     "text": [
      "{0, 1, 2, 3, 4, 5, 6, 7, 8, 9, 10, 11, 12, 13, 14, 15, 16, 17, 18, 19, 20, 21, 22, 23, 24, 25, 26, 27, 28, 29, 30, 31, 32, 33, 34, 35, 36, 37, 38, 39, 40, 41, 42, 43, 44, 45, 46, 47, 48, 49, 50, 51, 52, 53, 54, 55, 56, 57, 58, 59, 60, 61, 62, 63, 64, 65, 66, 67, 68, 69, 70, 71, 72, 73, 74, 75, 76, 77, 78, 79, 80, 81, 82, 83, 84, 85, 86, 87, 88, 89, 90, 91, 92, 93, 94, 95, 96, 97, 98, 99, 100, 101, 102, 103, 104, 105, 106, 107, 108, 109, 110, 111, 112, 113, 114, 115, 116, 117, 118, 119, 120, 121, 122, 123, 124, 125, 126, 127, 128, 129, 130, 131, 132, 133, 134, 135, 136, 137, 138, 139, 140, 141, 142, 143, 144, 145, 146, 147, 148, 149, 150, 151, 152, 153, -1}\n"
     ]
    }
   ],
   "source": [
    "unique_labels = set(labels) \n",
    "print(unique_labels) "
   ]
  },
  {
   "cell_type": "code",
   "execution_count": 11,
   "metadata": {},
   "outputs": [
    {
     "data": {
      "text/plain": [
       "'#4BE772'"
      ]
     },
     "execution_count": 11,
     "metadata": {},
     "output_type": "execute_result"
    }
   ],
   "source": [
    "def gen_hex_colour_code():\n",
    "   return '#'+''.join([random.choice('0123456789ABCDEF') for x in range(6)])\n",
    "col = gen_hex_colour_code()\n",
    "col"
   ]
  },
  {
   "cell_type": "markdown",
   "metadata": {},
   "source": [
    "## Clustering with outliers (black points are outliers)"
   ]
  },
  {
   "cell_type": "code",
   "execution_count": 12,
   "metadata": {},
   "outputs": [],
   "source": [
    "mi = folium.Map(location=[32.427910, 53.688046], zoom_start=5)\n",
    "unique_labels = set(labels) \n",
    "for k in unique_labels: \n",
    "    col = gen_hex_colour_code()\n",
    "    if k == -1: \n",
    "        # Black used for outlier. \n",
    "        col = 'black'\n",
    "  \n",
    "    class_member_mask = (labels == k)\n",
    "    \n",
    "    \n",
    "    xy = X[class_member_mask & core_samples_mask]\n",
    "    for record in xy:\n",
    "        folium.Circle(location=record,radius=1,color=col, fill=True).add_to(mi)\n",
    "    xy = X[class_member_mask & ~core_samples_mask]     # Outliers \n",
    "    for record in xy:\n",
    "        folium.Circle(location=record,radius=1,color=col,fill=True).add_to(mi)    "
   ]
  },
  {
   "cell_type": "code",
   "execution_count": 13,
   "metadata": {},
   "outputs": [],
   "source": [
    "mi.save('iran-distribution-clusters.html')"
   ]
  },
  {
   "cell_type": "code",
   "execution_count": null,
   "metadata": {},
   "outputs": [],
   "source": [
    "mi"
   ]
  },
  {
   "cell_type": "markdown",
   "metadata": {},
   "source": [
    "## Clustering without outliers"
   ]
  },
  {
   "cell_type": "code",
   "execution_count": 15,
   "metadata": {},
   "outputs": [],
   "source": [
    "mi = folium.Map(location=[32.427910, 53.688046], zoom_start=5)\n",
    "unique_labels = set(labels) \n",
    "for k in unique_labels: \n",
    "    col = gen_hex_colour_code()\n",
    "    if k == -1: \n",
    "        # Black used for outlier. \n",
    "        col = 'black'\n",
    "  \n",
    "    class_member_mask = (labels == k)\n",
    "    \n",
    "    \n",
    "    xy = X[class_member_mask & core_samples_mask]\n",
    "    for record in xy:\n",
    "        folium.Circle(location=record,radius=1,color=col, fill=True).add_to(mi)      "
   ]
  },
  {
   "cell_type": "code",
   "execution_count": 16,
   "metadata": {},
   "outputs": [],
   "source": [
    "mi.save('iran-distribution-clusters-without-outliers.html')"
   ]
  },
  {
   "cell_type": "code",
   "execution_count": null,
   "metadata": {},
   "outputs": [],
   "source": [
    "mi"
   ]
  }
 ],
 "metadata": {
  "kernelspec": {
   "display_name": "Python 3",
   "language": "python",
   "name": "python3"
  },
  "language_info": {
   "codemirror_mode": {
    "name": "ipython",
    "version": 3
   },
   "file_extension": ".py",
   "mimetype": "text/x-python",
   "name": "python",
   "nbconvert_exporter": "python",
   "pygments_lexer": "ipython3",
   "version": "3.8.2"
  }
 },
 "nbformat": 4,
 "nbformat_minor": 2
}
